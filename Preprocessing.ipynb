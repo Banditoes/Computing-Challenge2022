{
 "cells": [
  {
   "cell_type": "code",
   "execution_count": 1,
   "id": "5199e4bf",
   "metadata": {},
   "outputs": [],
   "source": [
    "import pandas as pd\n",
    "import numpy as np\n",
    "import matplotlib.pyplot as plt\n",
    "from sklearn.preprocessing import MinMaxScaler\n",
    "from sklearn.metrics import accuracy_score\n",
    "from pandas import DataFrame\n",
    "import seaborn as sn\n",
    "import matplotlib.pyplot as plt"
   ]
  },
  {
   "cell_type": "code",
   "execution_count": 2,
   "id": "11342f91",
   "metadata": {},
   "outputs": [],
   "source": [
    "from sklearn.linear_model import LogisticRegression\n",
    "from sklearn.svm import SVC\n",
    "from sklearn.ensemble import RandomForestClassifier\n",
    "from sklearn.model_selection import train_test_split\n",
    "from sklearn.model_selection import cross_val_score"
   ]
  },
  {
   "cell_type": "code",
   "execution_count": 3,
   "id": "e68e918b",
   "metadata": {},
   "outputs": [
    {
     "data": {
      "text/html": [
       "<div>\n",
       "<style scoped>\n",
       "    .dataframe tbody tr th:only-of-type {\n",
       "        vertical-align: middle;\n",
       "    }\n",
       "\n",
       "    .dataframe tbody tr th {\n",
       "        vertical-align: top;\n",
       "    }\n",
       "\n",
       "    .dataframe thead th {\n",
       "        text-align: right;\n",
       "    }\n",
       "</style>\n",
       "<table border=\"1\" class=\"dataframe\">\n",
       "  <thead>\n",
       "    <tr style=\"text-align: right;\">\n",
       "      <th></th>\n",
       "      <th>Compound</th>\n",
       "      <th>A</th>\n",
       "      <th>B</th>\n",
       "      <th>In literature</th>\n",
       "      <th>v(A)</th>\n",
       "      <th>v(B)</th>\n",
       "      <th>r(AXII)(Å)</th>\n",
       "      <th>r(AVI)(Å)</th>\n",
       "      <th>r(BVI)(Å)</th>\n",
       "      <th>EN(A)</th>\n",
       "      <th>EN(B)</th>\n",
       "      <th>l(A-O)(Å)</th>\n",
       "      <th>l(B-O)(Å)</th>\n",
       "      <th>ΔENR</th>\n",
       "      <th>tG</th>\n",
       "      <th>τ</th>\n",
       "      <th>μ</th>\n",
       "      <th>Lowest distortion</th>\n",
       "    </tr>\n",
       "  </thead>\n",
       "  <tbody>\n",
       "    <tr>\n",
       "      <th>0</th>\n",
       "      <td>Ac2O3</td>\n",
       "      <td>Ac</td>\n",
       "      <td>Ac</td>\n",
       "      <td>False</td>\n",
       "      <td>0</td>\n",
       "      <td>0</td>\n",
       "      <td>1.12</td>\n",
       "      <td>1.12</td>\n",
       "      <td>1.12</td>\n",
       "      <td>1.10</td>\n",
       "      <td>1.10</td>\n",
       "      <td>0.00000</td>\n",
       "      <td>0.000000</td>\n",
       "      <td>-3.248000</td>\n",
       "      <td>0.707107</td>\n",
       "      <td>-</td>\n",
       "      <td>0.800000</td>\n",
       "      <td>cubic</td>\n",
       "    </tr>\n",
       "    <tr>\n",
       "      <th>1</th>\n",
       "      <td>AcAgO3</td>\n",
       "      <td>Ac</td>\n",
       "      <td>Ag</td>\n",
       "      <td>False</td>\n",
       "      <td>0</td>\n",
       "      <td>0</td>\n",
       "      <td>1.12</td>\n",
       "      <td>1.12</td>\n",
       "      <td>0.95</td>\n",
       "      <td>1.10</td>\n",
       "      <td>1.93</td>\n",
       "      <td>0.00000</td>\n",
       "      <td>2.488353</td>\n",
       "      <td>-2.565071</td>\n",
       "      <td>0.758259</td>\n",
       "      <td>-</td>\n",
       "      <td>0.678571</td>\n",
       "      <td>orthorhombic</td>\n",
       "    </tr>\n",
       "    <tr>\n",
       "      <th>2</th>\n",
       "      <td>AcAlO3</td>\n",
       "      <td>Ac</td>\n",
       "      <td>Al</td>\n",
       "      <td>False</td>\n",
       "      <td>0</td>\n",
       "      <td>0</td>\n",
       "      <td>1.12</td>\n",
       "      <td>1.12</td>\n",
       "      <td>0.54</td>\n",
       "      <td>1.10</td>\n",
       "      <td>1.61</td>\n",
       "      <td>0.00000</td>\n",
       "      <td>1.892894</td>\n",
       "      <td>-1.846714</td>\n",
       "      <td>0.918510</td>\n",
       "      <td>-</td>\n",
       "      <td>0.385714</td>\n",
       "      <td>cubic</td>\n",
       "    </tr>\n",
       "    <tr>\n",
       "      <th>3</th>\n",
       "      <td>AcAsO3</td>\n",
       "      <td>Ac</td>\n",
       "      <td>As</td>\n",
       "      <td>False</td>\n",
       "      <td>0</td>\n",
       "      <td>0</td>\n",
       "      <td>1.12</td>\n",
       "      <td>1.12</td>\n",
       "      <td>0.52</td>\n",
       "      <td>1.10</td>\n",
       "      <td>2.18</td>\n",
       "      <td>0.00000</td>\n",
       "      <td>1.932227</td>\n",
       "      <td>-1.577429</td>\n",
       "      <td>0.928078</td>\n",
       "      <td>-</td>\n",
       "      <td>0.371429</td>\n",
       "      <td>orthorhombic</td>\n",
       "    </tr>\n",
       "    <tr>\n",
       "      <th>4</th>\n",
       "      <td>AcAuO3</td>\n",
       "      <td>Ac</td>\n",
       "      <td>Au</td>\n",
       "      <td>False</td>\n",
       "      <td>0</td>\n",
       "      <td>0</td>\n",
       "      <td>1.12</td>\n",
       "      <td>1.12</td>\n",
       "      <td>0.93</td>\n",
       "      <td>1.10</td>\n",
       "      <td>2.54</td>\n",
       "      <td>0.00000</td>\n",
       "      <td>2.313698</td>\n",
       "      <td>-2.279786</td>\n",
       "      <td>0.764768</td>\n",
       "      <td>-</td>\n",
       "      <td>0.664286</td>\n",
       "      <td>orthorhombic</td>\n",
       "    </tr>\n",
       "    <tr>\n",
       "      <th>...</th>\n",
       "      <td>...</td>\n",
       "      <td>...</td>\n",
       "      <td>...</td>\n",
       "      <td>...</td>\n",
       "      <td>...</td>\n",
       "      <td>...</td>\n",
       "      <td>...</td>\n",
       "      <td>...</td>\n",
       "      <td>...</td>\n",
       "      <td>...</td>\n",
       "      <td>...</td>\n",
       "      <td>...</td>\n",
       "      <td>...</td>\n",
       "      <td>...</td>\n",
       "      <td>...</td>\n",
       "      <td>...</td>\n",
       "      <td>...</td>\n",
       "      <td>...</td>\n",
       "    </tr>\n",
       "    <tr>\n",
       "      <th>5324</th>\n",
       "      <td>ZrWO3</td>\n",
       "      <td>Zr</td>\n",
       "      <td>W</td>\n",
       "      <td>False</td>\n",
       "      <td>1</td>\n",
       "      <td>5</td>\n",
       "      <td>0.89</td>\n",
       "      <td>0.72</td>\n",
       "      <td>0.62</td>\n",
       "      <td>1.33</td>\n",
       "      <td>2.36</td>\n",
       "      <td>2.38342</td>\n",
       "      <td>1.745600</td>\n",
       "      <td>-1.572214</td>\n",
       "      <td>0.801621</td>\n",
       "      <td>5.228952455</td>\n",
       "      <td>0.442857</td>\n",
       "      <td>cubic</td>\n",
       "    </tr>\n",
       "    <tr>\n",
       "      <th>5325</th>\n",
       "      <td>ZrYO3</td>\n",
       "      <td>Zr</td>\n",
       "      <td>Y</td>\n",
       "      <td>False</td>\n",
       "      <td>-</td>\n",
       "      <td>-</td>\n",
       "      <td>0.89</td>\n",
       "      <td>0.72</td>\n",
       "      <td>0.90</td>\n",
       "      <td>1.33</td>\n",
       "      <td>1.22</td>\n",
       "      <td>2.38342</td>\n",
       "      <td>2.235124</td>\n",
       "      <td>-2.489571</td>\n",
       "      <td>0.704032</td>\n",
       "      <td>-</td>\n",
       "      <td>0.642857</td>\n",
       "      <td>cubic</td>\n",
       "    </tr>\n",
       "    <tr>\n",
       "      <th>5326</th>\n",
       "      <td>ZrYbO3</td>\n",
       "      <td>Zr</td>\n",
       "      <td>Yb</td>\n",
       "      <td>False</td>\n",
       "      <td>-</td>\n",
       "      <td>-</td>\n",
       "      <td>0.89</td>\n",
       "      <td>0.72</td>\n",
       "      <td>0.95</td>\n",
       "      <td>1.33</td>\n",
       "      <td>1.10</td>\n",
       "      <td>2.38342</td>\n",
       "      <td>2.223981</td>\n",
       "      <td>-2.626821</td>\n",
       "      <td>0.689053</td>\n",
       "      <td>-</td>\n",
       "      <td>0.678571</td>\n",
       "      <td>orthorhombic</td>\n",
       "    </tr>\n",
       "    <tr>\n",
       "      <th>5327</th>\n",
       "      <td>ZrZnO3</td>\n",
       "      <td>Zr</td>\n",
       "      <td>Zn</td>\n",
       "      <td>False</td>\n",
       "      <td>-</td>\n",
       "      <td>-</td>\n",
       "      <td>0.89</td>\n",
       "      <td>0.72</td>\n",
       "      <td>0.74</td>\n",
       "      <td>1.33</td>\n",
       "      <td>1.65</td>\n",
       "      <td>2.38342</td>\n",
       "      <td>2.096141</td>\n",
       "      <td>-2.035750</td>\n",
       "      <td>0.756670</td>\n",
       "      <td>-</td>\n",
       "      <td>0.528571</td>\n",
       "      <td>cubic</td>\n",
       "    </tr>\n",
       "    <tr>\n",
       "      <th>5328</th>\n",
       "      <td>Zr2O3</td>\n",
       "      <td>Zr</td>\n",
       "      <td>Zr</td>\n",
       "      <td>False</td>\n",
       "      <td>-</td>\n",
       "      <td>-</td>\n",
       "      <td>0.89</td>\n",
       "      <td>0.72</td>\n",
       "      <td>0.72</td>\n",
       "      <td>1.33</td>\n",
       "      <td>1.33</td>\n",
       "      <td>2.38342</td>\n",
       "      <td>2.043778</td>\n",
       "      <td>-2.097821</td>\n",
       "      <td>0.763809</td>\n",
       "      <td>-</td>\n",
       "      <td>0.514286</td>\n",
       "      <td>cubic</td>\n",
       "    </tr>\n",
       "  </tbody>\n",
       "</table>\n",
       "<p>5329 rows × 18 columns</p>\n",
       "</div>"
      ],
      "text/plain": [
       "     Compound   A   B  In literature v(A) v(B)  r(AXII)(Å)  r(AVI)(Å)  \\\n",
       "0       Ac2O3  Ac  Ac          False    0    0        1.12       1.12   \n",
       "1      AcAgO3  Ac  Ag          False    0    0        1.12       1.12   \n",
       "2      AcAlO3  Ac  Al          False    0    0        1.12       1.12   \n",
       "3      AcAsO3  Ac  As          False    0    0        1.12       1.12   \n",
       "4      AcAuO3  Ac  Au          False    0    0        1.12       1.12   \n",
       "...       ...  ..  ..            ...  ...  ...         ...        ...   \n",
       "5324    ZrWO3  Zr   W          False    1    5        0.89       0.72   \n",
       "5325    ZrYO3  Zr   Y          False    -    -        0.89       0.72   \n",
       "5326   ZrYbO3  Zr  Yb          False    -    -        0.89       0.72   \n",
       "5327   ZrZnO3  Zr  Zn          False    -    -        0.89       0.72   \n",
       "5328    Zr2O3  Zr  Zr          False    -    -        0.89       0.72   \n",
       "\n",
       "      r(BVI)(Å)  EN(A)  EN(B)  l(A-O)(Å)  l(B-O)(Å)      ΔENR        tG  \\\n",
       "0          1.12   1.10   1.10    0.00000   0.000000 -3.248000  0.707107   \n",
       "1          0.95   1.10   1.93    0.00000   2.488353 -2.565071  0.758259   \n",
       "2          0.54   1.10   1.61    0.00000   1.892894 -1.846714  0.918510   \n",
       "3          0.52   1.10   2.18    0.00000   1.932227 -1.577429  0.928078   \n",
       "4          0.93   1.10   2.54    0.00000   2.313698 -2.279786  0.764768   \n",
       "...         ...    ...    ...        ...        ...       ...       ...   \n",
       "5324       0.62   1.33   2.36    2.38342   1.745600 -1.572214  0.801621   \n",
       "5325       0.90   1.33   1.22    2.38342   2.235124 -2.489571  0.704032   \n",
       "5326       0.95   1.33   1.10    2.38342   2.223981 -2.626821  0.689053   \n",
       "5327       0.74   1.33   1.65    2.38342   2.096141 -2.035750  0.756670   \n",
       "5328       0.72   1.33   1.33    2.38342   2.043778 -2.097821  0.763809   \n",
       "\n",
       "                τ         μ Lowest distortion  \n",
       "0               -  0.800000             cubic  \n",
       "1               -  0.678571      orthorhombic  \n",
       "2               -  0.385714             cubic  \n",
       "3               -  0.371429      orthorhombic  \n",
       "4               -  0.664286      orthorhombic  \n",
       "...           ...       ...               ...  \n",
       "5324  5.228952455  0.442857             cubic  \n",
       "5325            -  0.642857             cubic  \n",
       "5326            -  0.678571      orthorhombic  \n",
       "5327            -  0.528571             cubic  \n",
       "5328            -  0.514286             cubic  \n",
       "\n",
       "[5329 rows x 18 columns]"
      ]
     },
     "execution_count": 3,
     "metadata": {},
     "output_type": "execute_result"
    }
   ],
   "source": [
    "data = pd.read_csv('/Users/tejasgorla/VScode/MATE50001-Computing/Computing-Challenge2022/Crystal_structure.csv')\n",
    "data"
   ]
  },
  {
   "cell_type": "markdown",
   "id": "ffa80d32",
   "metadata": {},
   "source": [
    "### A brief explanation of preprocessing:\n",
    "1. Remove the NaN values for each rows. Rows with any NaN values were dropped.\n",
    "2. Remove the columns compound, A , B, In literature, v(B), radius(B) as they are not required to train the model\n",
    "3. First remove 0, 4, 5, 6 values for the valence A since they are not theoretically possible\n",
    "4. Use tG range 0.82 to 1.10 (From literature)\n",
    "5. Use mu range from 0.414 to 0.732 (From literature)\n",
    "6. Use FeatureScaling (To make training the model more reliable)"
   ]
  },
  {
   "cell_type": "code",
   "execution_count": 4,
   "id": "f879b4fb",
   "metadata": {},
   "outputs": [
    {
     "name": "stdout",
     "output_type": "stream",
     "text": [
      "['v(A)', 'r(AXII)(Å)', 'r(AVI)(Å)', 'r(BVI)(Å)', 'EN(A)', 'EN(B)', 'l(A-O)(Å)', 'l(B-O)(Å)', 'ΔENR', 'tG', 'τ', 'μ', 'Lowest distortion']\n",
      "Lowest distortion\n",
      "['v(A)', 'r(AXII)(Å)', 'r(AVI)(Å)', 'r(BVI)(Å)', 'EN(A)', 'EN(B)', 'l(A-O)(Å)', 'l(B-O)(Å)', 'ΔENR', 'tG', 'τ', 'μ']\n"
     ]
    },
    {
     "data": {
      "image/png": "[encoded data removed]",
      "text/plain": [
       "<Figure size 432x288 with 2 Axes>"
      ]
     },
     "metadata": {
      "needs_background": "light"
     },
     "output_type": "display_data"
    },
    {
     "data": {
      "image/png": "[encoded data removed]",
      "text/plain": [
       "<Figure size 432x288 with 2 Axes>"
      ]
     },
     "metadata": {
      "needs_background": "light"
     },
     "output_type": "display_data"
    }
   ],
   "source": [
    "\n",
    "def stageOne(data: pd.DataFrame) -> pd.DataFrame:\n",
    "    \"\"\"Processes the data and returns a dataframe with only the relevant data needed to train models\"\"\"\n",
    "    \n",
    "    # Drop Nan Values\n",
    "    df=data.copy()\n",
    "    df.replace({'-':np.nan}, inplace=True) \n",
    "    df=df.dropna()    \n",
    " \n",
    "    # Drop unnecessary columns\n",
    "    df=df.copy().drop([\"Compound\",\"A\",\"B\",\"In literature\",\"v(B)\"], axis=1)\n",
    "    df=df[ (df['tG']>= 0.82) & (df['tG'] <= 1.10)]\n",
    "    df = df[(df['v(A)'] != '5') & (df['v(A)'] != '4') & (df['v(A)'] != '0')]\n",
    "    #df=df[ (df['μ']>= 0.414) & (df['μ']<= 0.732) ]\n",
    "    df= df[ (df['μ']>= 0.414)]\n",
    "    columns = list(df.columns)\n",
    "    print(columns)\n",
    "    y_col = columns.pop(12)\n",
    "    print(y_col)\n",
    "    print(columns)\n",
    "    \n",
    "    # Split column in X, y which are the input and output variables respectively\n",
    "    y = df[y_col].to_numpy()\n",
    "    X = df[columns].to_numpy()\n",
    "    scaler = MinMaxScaler()\n",
    "    df[columns]= scaler.fit_transform(df[columns])\n",
    "    \n",
    "    # Generate correlation matrix for the variables\n",
    "    dorrMatrix = df.corr()\n",
    "    sn.heatmap(dorrMatrix, annot=True)\n",
    "    plt.show()\n",
    "    \n",
    "    # There is a high correlation of 0.86 between Delta ENR and the μ factor so it would make sense to remove it\n",
    "    \n",
    "    df=df.copy().drop([\"ΔENR\",\"r(BVI)(Å)\"],axis=1)\n",
    "    dorrMatrix = df.corr()\n",
    "    sn.heatmap(dorrMatrix, annot=True)\n",
    "    plt.show()\n",
    "    \n",
    "    # A comparison of some sort can be shown here for the 2 matrixes i guess. low values imply that the features are ready.\n",
    "        \n",
    "    df=df.reset_index(drop=True)\n",
    "    return df\n",
    "\n",
    "df_pre=stageOne(data)\n"
   ]
  },
  {
   "cell_type": "code",
   "execution_count": 5,
   "id": "eed3ec5c",
   "metadata": {},
   "outputs": [],
   "source": [
    "df_pre\n",
    "df_pre.to_csv('Preprocessed file.csv')\n"
   ]
  },
  {
   "cell_type": "code",
   "execution_count": 6,
   "id": "94dc3873",
   "metadata": {},
   "outputs": [],
   "source": [
    "columns=list(df_pre.columns)\n",
    "y_col = columns.pop(10)\n",
    "y = df_pre[y_col].to_numpy()\n",
    "X = df_pre[columns].to_numpy()\n",
    "X_train,X_test,y_train, y_test=train_test_split(X,y, test_size=0.3)"
   ]
  },
  {
   "cell_type": "code",
   "execution_count": 7,
   "id": "fb621ba6",
   "metadata": {},
   "outputs": [
    {
     "data": {
      "text/plain": [
       "0.676923076923077"
      ]
     },
     "execution_count": 7,
     "metadata": {},
     "output_type": "execute_result"
    }
   ],
   "source": [
    "\n",
    "Lr=LogisticRegression()\n",
    "Lr.fit(X_train,y_train)\n",
    "Lr.score(X_test,y_test)"
   ]
  },
  {
   "cell_type": "code",
   "execution_count": 8,
   "id": "2ab3d6f0",
   "metadata": {},
   "outputs": [
    {
     "data": {
      "text/plain": [
       "0.6974358974358974"
      ]
     },
     "execution_count": 8,
     "metadata": {},
     "output_type": "execute_result"
    }
   ],
   "source": [
    "svm=SVC()\n",
    "svm.fit(X_train,y_train)\n",
    "svm.score(X_test,y_test)"
   ]
  },
  {
   "cell_type": "code",
   "execution_count": 9,
   "id": "49d22012",
   "metadata": {},
   "outputs": [
    {
     "data": {
      "text/plain": [
       "0.7948717948717948"
      ]
     },
     "execution_count": 9,
     "metadata": {},
     "output_type": "execute_result"
    }
   ],
   "source": [
    "RF=RandomForestClassifier(n_estimators=65)\n",
    "RF.fit(X_train,y_train)\n",
    "RF.score(X_test,y_test)"
   ]
  },
  {
   "cell_type": "code",
   "execution_count": 10,
   "id": "4ef9f53f",
   "metadata": {},
   "outputs": [
    {
     "data": {
      "text/plain": [
       "(array([0.66871166, 0.72222222, 0.64814815, 0.64197531]), 0.6702643338635159)"
      ]
     },
     "execution_count": 10,
     "metadata": {},
     "output_type": "execute_result"
    }
   ],
   "source": [
    "a=cross_val_score(Lr,X,y,cv=4)\n",
    "a,a.mean()\n"
   ]
  },
  {
   "cell_type": "code",
   "execution_count": 11,
   "id": "b9e58a95",
   "metadata": {},
   "outputs": [
    {
     "data": {
      "text/plain": [
       "array([0.67692308, 0.65384615, 0.7       , 0.68461538, 0.70542636])"
      ]
     },
     "execution_count": 11,
     "metadata": {},
     "output_type": "execute_result"
    }
   ],
   "source": [
    "cross_val_score(svm,X,y)"
   ]
  },
  {
   "cell_type": "code",
   "execution_count": 12,
   "id": "6faefd6d",
   "metadata": {},
   "outputs": [
    {
     "data": {
      "text/plain": [
       "(array([0.66257669, 0.78395062, 0.68518519, 0.74074074]), 0.7181133075816102)"
      ]
     },
     "execution_count": 12,
     "metadata": {},
     "output_type": "execute_result"
    }
   ],
   "source": [
    "a=cross_val_score(RF,X,y,cv=4)\n",
    "a,a.mean()"
   ]
  },
  {
   "cell_type": "code",
   "execution_count": 13,
   "id": "b6d3987c",
   "metadata": {},
   "outputs": [
    {
     "data": {
      "text/plain": [
       "([0.5692307692307692,\n",
       "  0.676923076923077,\n",
       "  0.8307692307692308,\n",
       "  0.6615384615384615,\n",
       "  0.7846153846153846,\n",
       "  0.7384615384615385,\n",
       "  0.6461538461538462,\n",
       "  0.6923076923076923,\n",
       "  0.7538461538461538,\n",
       "  0.671875],\n",
       " 0.7025721153846154)"
      ]
     },
     "execution_count": 13,
     "metadata": {},
     "output_type": "execute_result"
    }
   ],
   "source": [
    "from sklearn.model_selection import StratifiedKFold\n",
    "accuracy=[]\n",
    "stk= StratifiedKFold(n_splits=10)\n",
    "stk.get_n_splits(X,y)\n",
    "for train_index, test_index in stk.split(X,y):\n",
    "    X1_train, X1_test=X[train_index], X[test_index]\n",
    "    y1_train, y1_test=y[train_index], y[test_index]\n",
    "    RF.fit(X1_train,y1_train)\n",
    "    prediction=RF.predict(X1_test)\n",
    "    score = accuracy_score(prediction,y1_test)\n",
    "    accuracy.append(score)\n",
    "\n",
    "accuracy,np.array(accuracy).mean()\n",
    "\n"
   ]
  },
  {
   "cell_type": "markdown",
   "id": "ebd8515b",
   "metadata": {},
   "source": [
    "KEY THINGS ABOUT THE FIRST NOTEBOOK:\n",
    "We should try out a couple of other classifiers because they're not that difficult to implement and might give some better result. A cross-validation can be done for whatever classifier chosen. I used the same concepts that were also used in the research paper we found. "
   ]
  },
  {
   "cell_type": "code",
   "execution_count": 14,
   "id": "3f719bed",
   "metadata": {},
   "outputs": [
    {
     "name": "stdout",
     "output_type": "stream",
     "text": [
      "0.6886778846153846\n",
      "0.5454807692307693\n",
      "0.7071394230769231\n",
      "0.7071394230769231\n",
      "0.6764182692307693\n",
      "0.6470913461538462\n",
      "0.6794471153846154\n",
      "0.5408413461538462\n",
      "0.6331730769230768\n"
     ]
    }
   ],
   "source": [
    "from sklearn.neural_network import MLPClassifier\n",
    "from sklearn.neighbors import KNeighborsClassifier\n",
    "from sklearn.svm import SVC\n",
    "from sklearn.gaussian_process import GaussianProcessClassifier\n",
    "from sklearn.tree import DecisionTreeClassifier\n",
    "from sklearn.ensemble import RandomForestClassifier, AdaBoostClassifier\n",
    "from sklearn.gaussian_process.kernels import RBF\n",
    "from sklearn.naive_bayes import GaussianNB\n",
    "from sklearn.discriminant_analysis import QuadraticDiscriminantAnalysis\n",
    "\n",
    "from sklearn import datasets, linear_model\n",
    "from sklearn.model_selection import cross_val_score\n",
    "\n",
    "\n",
    "knc=KNeighborsClassifier(3)\n",
    "knc.fit(X_train, y_train)\n",
    "knc.score(X_test,y_test)\n",
    "a=cross_val_score(knc,X,y,cv=10)\n",
    "print(a.mean())\n",
    "\n",
    "svc1=SVC(kernel=\"linear\", C=0.025)\n",
    "svc1.fit(X_train, y_train)\n",
    "svc1.score(X_test,y_test)\n",
    "b=cross_val_score(svc1,X,y,cv=10)\n",
    "print(b.mean())\n",
    "\n",
    "svc2=SVC(gamma=2, C=1)\n",
    "svc2.fit(X_train, y_train)\n",
    "svc2.score(X_test,y_test)\n",
    "c=cross_val_score(svc2,X,y,cv=10)\n",
    "print(c.mean())\n",
    "\n",
    "gbc=GaussianProcessClassifier(1.0 * RBF(1.0))\n",
    "gbc.fit(X_train, y_train)\n",
    "gbc.score(X_test,y_test)\n",
    "d=cross_val_score(gbc,X,y,cv=10)\n",
    "print(d.mean())\n",
    "\n",
    "dtc=DecisionTreeClassifier(max_depth=5)\n",
    "dtc.fit(X_train, y_train)\n",
    "dtc.score(X_test,y_test)\n",
    "e=cross_val_score(dtc,X,y,cv=10)\n",
    "print(e.mean())\n",
    "\n",
    "rfc=RandomForestClassifier(max_depth=5, n_estimators=10, max_features=1)\n",
    "rfc.fit(X_train, y_train)\n",
    "rfc.score(X_test,y_test)\n",
    "f=cross_val_score(rfc,X,y,cv=10)\n",
    "print(f.mean())\n",
    "\n",
    "mlpc=MLPClassifier(alpha=1, max_iter=1000)\n",
    "mlpc.fit(X_train, y_train)\n",
    "mlpc.score(X_test,y_test)\n",
    "g=cross_val_score(mlpc,X,y,cv=10)\n",
    "print(g.mean())\n",
    "\n",
    "abc=AdaBoostClassifier()\n",
    "abc.fit(X_train, y_train)\n",
    "abc.score(X_test,y_test)\n",
    "h=cross_val_score(abc,X,y,cv=10)\n",
    "print(h.mean())\n",
    "\n",
    "gnbc=GaussianNB()\n",
    "gnbc.fit(X_train, y_train)\n",
    "gnbc.score(X_test,y_test)\n",
    "i=cross_val_score(gnbc,X,y,cv=10)\n",
    "print(i.mean())\n",
    "\n",
    "# qda=QuadraticDiscriminantAnalysis()\n",
    "# qda.fit(X_train, y_train)\n",
    "# qda.score(X_test,y_test)\n",
    "# j=cross_val_score(qda,X,y,cv=10)\n",
    "# print(j.mean())"
   ]
  },
  {
   "cell_type": "code",
   "execution_count": 15,
   "id": "a3c2b416",
   "metadata": {},
   "outputs": [
    {
     "name": "stdout",
     "output_type": "stream",
     "text": [
      "0.7076923076923077\n",
      "0.7040624999999999\n"
     ]
    }
   ],
   "source": [
    "knc=KNeighborsClassifier(6)\n",
    "knc.fit(X_train, y_train)\n",
    "knc.score(X_test,y_test)\n",
    "print(knc.score(X_test,y_test))\n",
    "a=cross_val_score(knc,X,y,cv=10)\n",
    "print(a.mean())"
   ]
  },
  {
   "cell_type": "code",
   "execution_count": 16,
   "id": "08a41bf3",
   "metadata": {},
   "outputs": [
    {
     "name": "stdout",
     "output_type": "stream",
     "text": [
      "0.676923076923077\n",
      "0.6824278846153847\n"
     ]
    }
   ],
   "source": [
    "svc1=SVC(kernel=\"linear\", C=0.8)\n",
    "svc1.fit(X_train, y_train)\n",
    "svc1.score(X_test,y_test)\n",
    "print(svc1.score(X_test,y_test))\n",
    "b=cross_val_score(svc1,X,y,cv=10)\n",
    "print(b.mean())"
   ]
  },
  {
   "cell_type": "code",
   "execution_count": 17,
   "id": "c28ebf73",
   "metadata": {},
   "outputs": [
    {
     "name": "stdout",
     "output_type": "stream",
     "text": [
      "0.7282051282051282\n",
      "0.7148798076923077\n"
     ]
    }
   ],
   "source": [
    "svc2=SVC(gamma=8, C=1)\n",
    "svc2.fit(X_train, y_train)\n",
    "svc2.score(X_test,y_test)\n",
    "print(svc2.score(X_test,y_test))\n",
    "c=cross_val_score(svc2,X,y,cv=10)\n",
    "print(c.mean())"
   ]
  },
  {
   "cell_type": "code",
   "execution_count": 18,
   "id": "21b1b259",
   "metadata": {},
   "outputs": [
    {
     "name": "stdout",
     "output_type": "stream",
     "text": [
      "0.7230769230769231\n",
      "0.7071394230769231\n"
     ]
    }
   ],
   "source": [
    "gbc=GaussianProcessClassifier(1 * RBF(1))\n",
    "gbc.fit(X_train, y_train)\n",
    "gbc.score(X_test,y_test)\n",
    "print(gbc.score(X_test,y_test))\n",
    "d=cross_val_score(gbc,X,y,cv=10)\n",
    "print(d.mean())"
   ]
  },
  {
   "cell_type": "code",
   "execution_count": 19,
   "id": "4deee98f",
   "metadata": {},
   "outputs": [
    {
     "name": "stdout",
     "output_type": "stream",
     "text": [
      "0.7230769230769231\n",
      "0.6717788461538461\n"
     ]
    }
   ],
   "source": [
    "dtc=DecisionTreeClassifier(max_depth=7.7)\n",
    "dtc.fit(X_train, y_train)\n",
    "dtc.score(X_test,y_test)\n",
    "print(dtc.score(X_test,y_test))\n",
    "e=cross_val_score(dtc,X,y,cv=10)\n",
    "print(e.mean())"
   ]
  },
  {
   "cell_type": "code",
   "execution_count": 20,
   "id": "7ba148e4",
   "metadata": {},
   "outputs": [
    {
     "name": "stdout",
     "output_type": "stream",
     "text": [
      "0.8153846153846154\n",
      "0.7287259615384616\n"
     ]
    }
   ],
   "source": [
    "rfc=RandomForestClassifier(max_depth=13, n_estimators=15, max_features=3)\n",
    "rfc.fit(X_train, y_train)\n",
    "rfc.score(X_test,y_test)\n",
    "print(rfc.score(X_test,y_test))\n",
    "f=cross_val_score(rfc,X,y,cv=10)\n",
    "print(f.mean())"
   ]
  },
  {
   "cell_type": "code",
   "execution_count": 21,
   "id": "93640495",
   "metadata": {},
   "outputs": [
    {
     "name": "stdout",
     "output_type": "stream",
     "text": [
      "0.6820512820512821\n",
      "0.6854326923076923\n"
     ]
    }
   ],
   "source": [
    "mlpc=MLPClassifier(alpha=3, max_iter=1000)\n",
    "mlpc.fit(X_train, y_train)\n",
    "mlpc.score(X_test,y_test)\n",
    "print(mlpc.score(X_test,y_test))\n",
    "g=cross_val_score(mlpc,X,y,cv=10)\n",
    "print(g.mean())"
   ]
  },
  {
   "cell_type": "code",
   "execution_count": 22,
   "id": "a13c0495",
   "metadata": {},
   "outputs": [
    {
     "name": "stdout",
     "output_type": "stream",
     "text": [
      "0.5025641025641026\n",
      "0.5408413461538462\n"
     ]
    }
   ],
   "source": [
    "abc=AdaBoostClassifier()\n",
    "abc.fit(X_train, y_train)\n",
    "abc.score(X_test,y_test)\n",
    "print(abc.score(X_test,y_test))\n",
    "h=cross_val_score(abc,X,y,cv=10)\n",
    "print(h.mean())"
   ]
  },
  {
   "cell_type": "code",
   "execution_count": 23,
   "id": "abdde4f9",
   "metadata": {},
   "outputs": [
    {
     "name": "stdout",
     "output_type": "stream",
     "text": [
      "0.6512820512820513\n",
      "0.6331730769230768\n"
     ]
    }
   ],
   "source": [
    "gnbc=GaussianNB()\n",
    "gnbc.fit(X_train, y_train)\n",
    "gnbc.score(X_test,y_test)\n",
    "print(gnbc.score(X_test,y_test))\n",
    "i=cross_val_score(gnbc,X,y,cv=10)\n",
    "print(i.mean())"
   ]
  },
  {
   "cell_type": "code",
   "execution_count": 24,
   "id": "b0a49d27",
   "metadata": {},
   "outputs": [],
   "source": [
    "# qda=QuadraticDiscriminantAnalysis()\n",
    "# qda.fit(X_train, y_train)\n",
    "# qda.score(X_test,y_test)\n",
    "# print(qda.score(X_test,y_test))\n",
    "# j=cross_val_score(qda,X,y,cv=10)\n",
    "# print(j.mean())"
   ]
  }
 ],
 "metadata": {
  "kernelspec": {
   "display_name": "Python 3.9.12 ('base')",
   "language": "python",
   "name": "python3"
  },
  "language_info": {
   "codemirror_mode": {
    "name": "ipython",
    "version": 3
   },
   "file_extension": ".py",
   "mimetype": "text/x-python",
   "name": "python",
   "nbconvert_exporter": "python",
   "pygments_lexer": "ipython3",
   "version": "3.9.12"
  },
  "vscode": {
   "interpreter": {
    "hash": "9fc0ab50a338f6be5709c8be86dd543efa96876cbb1c3945d6d7102476081ed3"
   }
  }
 },
 "nbformat": 4,
 "nbformat_minor": 5
}
