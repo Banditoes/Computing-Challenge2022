{
 "cells": [
  {
   "cell_type": "code",
   "execution_count": null,
   "metadata": {},
   "outputs": [],
   "source": [
    "from sklearn.neural_network import MLPClassifier\n",
    "from sklearn.neighbors import KNeighborsClassifier\n",
    "from sklearn.svm import SVC\n",
    "from sklearn.gaussian_process import GaussianProcessClassifier\n",
    "from sklearn.tree import DecisionTreeClassifier\n",
    "from sklearn.ensemble import RandomForestClassifier, AdaBoostClassifier\n",
    "from sklearn.gaussian_process.kernels import RBF\n",
    "from sklearn.naive_bayes import GaussianNB\n",
    "from sklearn.discriminant_analysis import QuadraticDiscriminantAnalysis\n",
    "\n",
    "from sklearn import datasets, linear_model\n",
    "from sklearn.model_selection import cross_val_score\n",
    "\n",
    "\n",
    "knc=KNeighborsClassifier(3)\n",
    "knc.fit(X_train, y_train)\n",
    "knc.score(X_test,y_test)\n",
    "a=cross_val_score(knc,X,y,cv=10)\n",
    "print(a.mean())\n",
    "\n",
    "svc1=SVC(kernel=\"linear\", C=0.025)\n",
    "svc1.fit(X_train, y_train)\n",
    "svc1.score(X_test,y_test)\n",
    "b=cross_val_score(svc1,X,y,cv=10)\n",
    "print(b.mean())\n",
    "\n",
    "svc2=SVC(gamma=2, C=1)\n",
    "svc2.fit(X_train, y_train)\n",
    "svc2.score(X_test,y_test)\n",
    "c=cross_val_score(svc2,X,y,cv=10)\n",
    "print(c.mean())\n",
    "\n",
    "gbc=GaussianProcessClassifier(1.0 * RBF(1.0))\n",
    "gbc.fit(X_train, y_train)\n",
    "gbc.score(X_test,y_test)\n",
    "d=cross_val_score(gbc,X,y,cv=10)\n",
    "print(d.mean())\n",
    "\n",
    "dtc=DecisionTreeClassifier(max_depth=5)\n",
    "dtc.fit(X_train, y_train)\n",
    "dtc.score(X_test,y_test)\n",
    "e=cross_val_score(dtc,X,y,cv=10)\n",
    "print(e.mean())\n",
    "\n",
    "rfc=RandomForestClassifier(max_depth=5, n_estimators=10, max_features=1)\n",
    "rfc.fit(X_train, y_train)\n",
    "rfc.score(X_test,y_test)\n",
    "f=cross_val_score(rfc,X,y,cv=10)\n",
    "print(f.mean())\n",
    "\n",
    "mlpc=MLPClassifier(alpha=1, max_iter=1000)\n",
    "mlpc.fit(X_train, y_train)\n",
    "mlpc.score(X_test,y_test)\n",
    "g=cross_val_score(mlpc,X,y,cv=10)\n",
    "print(g.mean())\n",
    "\n",
    "abc=AdaBoostClassifier()\n",
    "abc.fit(X_train, y_train)\n",
    "abc.score(X_test,y_test)\n",
    "h=cross_val_score(abc,X,y,cv=10)\n",
    "print(h.mean())\n",
    "\n",
    "gnbc=GaussianNB()\n",
    "gnbc.fit(X_train, y_train)\n",
    "gnbc.score(X_test,y_test)\n",
    "i=cross_val_score(gnbc,X,y,cv=10)\n",
    "print(i.mean())\n",
    "\n",
    "qda=QuadraticDiscriminantAnalysis()\n",
    "qda.fit(X_train, y_train)\n",
    "qda.score(X_test,y_test)\n",
    "j=cross_val_score(qda,X,y,cv=10)\n",
    "print(j.mean())"
   ]
  },
  {
   "cell_type": "code",
   "execution_count": null,
   "metadata": {},
   "outputs": [],
   "source": [
    "knc=KNeighborsClassifier(6)\n",
    "knc.fit(X_train, y_train)\n",
    "knc.score(X_test,y_test)\n",
    "print(knc.score(X_test,y_test))\n",
    "a=cross_val_score(knc,X,y,cv=10)\n",
    "print(a.mean())"
   ]
  },
  {
   "cell_type": "code",
   "execution_count": null,
   "metadata": {},
   "outputs": [],
   "source": [
    "svc1=SVC(kernel=\"linear\", C=0.8)\n",
    "svc1.fit(X_train, y_train)\n",
    "svc1.score(X_test,y_test)\n",
    "print(svc1.score(X_test,y_test))\n",
    "b=cross_val_score(svc1,X,y,cv=10)\n",
    "print(b.mean())"
   ]
  },
  {
   "cell_type": "code",
   "execution_count": null,
   "metadata": {},
   "outputs": [],
   "source": [
    "svc2=SVC(gamma=8, C=1)\n",
    "svc2.fit(X_train, y_train)\n",
    "svc2.score(X_test,y_test)\n",
    "print(svc2.score(X_test,y_test))\n",
    "c=cross_val_score(svc2,X,y,cv=10)\n",
    "print(c.mean())"
   ]
  },
  {
   "cell_type": "code",
   "execution_count": null,
   "metadata": {},
   "outputs": [],
   "source": [
    "gbc=GaussianProcessClassifier(1 * RBF(1))\n",
    "gbc.fit(X_train, y_train)\n",
    "gbc.score(X_test,y_test)\n",
    "print(gbc.score(X_test,y_test))\n",
    "d=cross_val_score(gbc,X,y,cv=10)\n",
    "print(d.mean())"
   ]
  },
  {
   "cell_type": "code",
   "execution_count": null,
   "metadata": {},
   "outputs": [],
   "source": [
    "dtc=DecisionTreeClassifier(max_depth=7.7)\n",
    "dtc.fit(X_train, y_train)\n",
    "dtc.score(X_test,y_test)\n",
    "print(dtc.score(X_test,y_test))\n",
    "e=cross_val_score(dtc,X,y,cv=10)\n",
    "print(e.mean())"
   ]
  },
  {
   "cell_type": "code",
   "execution_count": null,
   "metadata": {},
   "outputs": [],
   "source": [
    "rfc=RandomForestClassifier(max_depth=13, n_estimators=15, max_features=3)\n",
    "rfc.fit(X_train, y_train)\n",
    "rfc.score(X_test,y_test)\n",
    "print(rfc.score(X_test,y_test))\n",
    "f=cross_val_score(rfc,X,y,cv=10)\n",
    "print(f.mean())"
   ]
  },
  {
   "cell_type": "code",
   "execution_count": null,
   "metadata": {},
   "outputs": [],
   "source": [
    "mlpc=MLPClassifier(alpha=3, max_iter=1000)\n",
    "mlpc.fit(X_train, y_train)\n",
    "mlpc.score(X_test,y_test)\n",
    "print(mlpc.score(X_test,y_test))\n",
    "g=cross_val_score(mlpc,X,y,cv=10)\n",
    "print(g.mean())"
   ]
  },
  {
   "cell_type": "code",
   "execution_count": null,
   "metadata": {},
   "outputs": [],
   "source": [
    "abc=AdaBoostClassifier()\n",
    "abc.fit(X_train, y_train)\n",
    "abc.score(X_test,y_test)\n",
    "print(abc.score(X_test,y_test))\n",
    "h=cross_val_score(abc,X,y,cv=10)\n",
    "print(h.mean())"
   ]
  },
  {
   "cell_type": "code",
   "execution_count": null,
   "metadata": {},
   "outputs": [],
   "source": [
    "gnbc=GaussianNB()\n",
    "gnbc.fit(X_train, y_train)\n",
    "gnbc.score(X_test,y_test)\n",
    "print(gnbc.score(X_test,y_test))\n",
    "i=cross_val_score(gnbc,X,y,cv=10)\n",
    "print(i.mean())"
   ]
  },
  {
   "cell_type": "code",
   "execution_count": null,
   "metadata": {},
   "outputs": [],
   "source": [
    "qda=QuadraticDiscriminantAnalysis()\n",
    "qda.fit(X_train, y_train)\n",
    "qda.score(X_test,y_test)\n",
    "print(qda.score(X_test,y_test))\n",
    "j=cross_val_score(qda,X,y,cv=10)\n",
    "print(j.mean())"
   ]
  }
 ],
 "metadata": {
  "kernelspec": {
   "display_name": "Python 3",
   "language": "python",
   "name": "python3"
  },
  "language_info": {
   "codemirror_mode": {
    "name": "ipython",
    "version": 3
   },
   "file_extension": ".py",
   "mimetype": "text/x-python",
   "name": "python",
   "nbconvert_exporter": "python",
   "pygments_lexer": "ipython3",
   "version": "3.8.5"
  }
 },
 "nbformat": 4,
 "nbformat_minor": 4
}
